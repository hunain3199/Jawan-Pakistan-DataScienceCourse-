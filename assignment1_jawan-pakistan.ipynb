{
 "cells": [
  {
   "cell_type": "code",
   "execution_count": 1,
   "id": "e2de16c6",
   "metadata": {},
   "outputs": [
    {
     "name": "stdout",
     "output_type": "stream",
     "text": [
      "Twinkle,twinkle,little,\n",
      "        How I wonder what you are \n",
      "                Up above the world so high,\n",
      "                Like a diamond in the sky. \n",
      "Twinkle,twinkle,little star, \n",
      "        How I wonder what you are\n"
     ]
    }
   ],
   "source": [
    "print(\"Twinkle,twinkle,little,\\n        \" \"How I wonder what you are \\n\" \"                Up above the world so high,\\n\"  \"                Like a diamond in the sky. \\n\" \"Twinkle,twinkle,little star, \\n\" \"        How I wonder what you are\")"
   ]
  },
  {
   "cell_type": "code",
   "execution_count": 2,
   "id": "8200aec8",
   "metadata": {},
   "outputs": [
    {
     "data": {
      "text/plain": [
       "'3.9.7'"
      ]
     },
     "execution_count": 2,
     "metadata": {},
     "output_type": "execute_result"
    }
   ],
   "source": [
    "from platform import python_version\n",
    "python_version()"
   ]
  },
  {
   "cell_type": "code",
   "execution_count": 3,
   "id": "e9f9c9a1",
   "metadata": {},
   "outputs": [
    {
     "name": "stdout",
     "output_type": "stream",
     "text": [
      "now = 2021-12-30 01:05:06.264102\n"
     ]
    }
   ],
   "source": [
    "from datetime import datetime\n",
    "\n",
    "now = datetime.now()\n",
    " \n",
    "print(\"now =\", now)"
   ]
  },
  {
   "cell_type": "code",
   "execution_count": 4,
   "id": "e8a08881",
   "metadata": {},
   "outputs": [
    {
     "name": "stdout",
     "output_type": "stream",
     "text": [
      "Enter radius of a circle 6\n",
      "The Area of a cicle is 113.112\n"
     ]
    }
   ],
   "source": [
    "radius = int(input(\"Enter radius of a circle \"))\n",
    "calc = 3.142 * (radius * radius)\n",
    "print(\"The Area of a cicle is \" + str(calc))"
   ]
  },
  {
   "cell_type": "code",
   "execution_count": 5,
   "id": "1e620279",
   "metadata": {},
   "outputs": [
    {
     "name": "stdout",
     "output_type": "stream",
     "text": [
      "Enter First Name Hunain\n",
      "Enter Last Name Irfan\n",
      "Irfan Hunain\n"
     ]
    }
   ],
   "source": [
    "firstName = input(\"Enter First Name \")\n",
    "lastName = input(\"Enter Last Name \")\n",
    "\n",
    "print(lastName + \" \" + firstName)"
   ]
  },
  {
   "cell_type": "code",
   "execution_count": 6,
   "id": "eacd5f51",
   "metadata": {},
   "outputs": [
    {
     "name": "stdout",
     "output_type": "stream",
     "text": [
      "Enter number 1 5\n",
      "Enter number 2 7\n",
      "12\n"
     ]
    }
   ],
   "source": [
    "num1 = int(input(\"Enter number 1 \"))\n",
    "num2 = int(input(\"Enter number 2 \"))\n",
    "total = num1 + num2\n",
    "print(total)"
   ]
  },
  {
   "cell_type": "code",
   "execution_count": null,
   "id": "d60d2096",
   "metadata": {},
   "outputs": [],
   "source": []
  }
 ],
 "metadata": {
  "kernelspec": {
   "display_name": "Python 3 (ipykernel)",
   "language": "python",
   "name": "python3"
  },
  "language_info": {
   "codemirror_mode": {
    "name": "ipython",
    "version": 3
   },
   "file_extension": ".py",
   "mimetype": "text/x-python",
   "name": "python",
   "nbconvert_exporter": "python",
   "pygments_lexer": "ipython3",
   "version": "3.9.7"
  }
 },
 "nbformat": 4,
 "nbformat_minor": 5
}
